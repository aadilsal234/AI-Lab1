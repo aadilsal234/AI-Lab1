{
  "nbformat": 4,
  "nbformat_minor": 0,
  "metadata": {
    "colab": {
      "provenance": []
    },
    "kernelspec": {
      "name": "python3",
      "display_name": "Python 3"
    },
    "language_info": {
      "name": "python"
    }
  },
  "cells": [
    {
      "cell_type": "code",
      "execution_count": 1,
      "metadata": {
        "colab": {
          "base_uri": "https://localhost:8080/"
        },
        "id": "9M9nayEC1GFW",
        "outputId": "e1af3c06-5618-469b-ee89-6fa0317fde5c"
      },
      "outputs": [
        {
          "output_type": "stream",
          "name": "stdout",
          "text": [
            "Enter your name: aadil\n",
            "Enter your age: 22\n",
            "Welcome aadil! Your age is 22\n"
          ]
        }
      ],
      "source": [
        "def hello_python():\n",
        "    name = input(\"Enter your name: \")\n",
        "    age = input(\"Enter your age: \")\n",
        "    print(f\"Welcome {name}! Your age is {age}\")\n",
        "\n",
        "hello_python()"
      ]
    },
    {
      "cell_type": "code",
      "source": [
        "def find_type():\n",
        "  data=input(\"Enter data: \")\n",
        "  try:\n",
        "    data=int(data)\n",
        "    print(f\"{data} is an integer\")\n",
        "  except ValueError:\n",
        "    try:\n",
        "      data=float(data)\n",
        "      print(f\"{data} is a float\")\n",
        "    except ValueError:\n",
        "      print\n",
        "find_type()"
      ],
      "metadata": {
        "colab": {
          "base_uri": "https://localhost:8080/"
        },
        "id": "rjHkBVaJ1Hg8",
        "outputId": "f4875f6f-ad35-4ba4-b2d7-7bb05815d275"
      },
      "execution_count": 11,
      "outputs": [
        {
          "output_type": "stream",
          "name": "stdout",
          "text": [
            "Enter data: 10.5\n",
            "10.5 is a float\n"
          ]
        }
      ]
    },
    {
      "cell_type": "code",
      "source": [
        "def listOperations():\n",
        "  list1=['a','b','c','d']\n",
        "  # for item in list1:\n",
        "  #   print(item)\n",
        "  list1.append('e')\n",
        "  list1.remove('a')\n",
        "  for item in list1:\n",
        "    print(item)\n",
        "  for item in list1:\n",
        "    print(item.upper())\n",
        "\n",
        "listOperations()\n"
      ],
      "metadata": {
        "colab": {
          "base_uri": "https://localhost:8080/"
        },
        "id": "P8GfXXs22gW6",
        "outputId": "24bbc6b3-d9d2-4ae2-8b38-55b7360f4c0d"
      },
      "execution_count": 19,
      "outputs": [
        {
          "output_type": "stream",
          "name": "stdout",
          "text": [
            "b\n",
            "c\n",
            "d\n",
            "e\n",
            "B\n",
            "C\n",
            "D\n",
            "E\n"
          ]
        }
      ]
    },
    {
      "cell_type": "code",
      "source": [
        "def tupleUnpack():\n",
        "  data=(\"a\",\"b\")\n",
        "  x=data[0]\n",
        "  y=data[1]\n",
        "  print(x,y)\n",
        "\n",
        "tupleUnpack()"
      ],
      "metadata": {
        "colab": {
          "base_uri": "https://localhost:8080/"
        },
        "id": "ek9JhMMj3pcP",
        "outputId": "9a5516fb-5646-4870-9f05-03b80d37f44f"
      },
      "execution_count": 21,
      "outputs": [
        {
          "output_type": "stream",
          "name": "stdout",
          "text": [
            "a b\n"
          ]
        }
      ]
    },
    {
      "cell_type": "code",
      "source": [
        "def dictionary_managment():\n",
        "  data={\"abc\":'B','def':'C','ghi':'A'}\n",
        "  print(data)\n",
        "\n",
        "dictionary_managment()"
      ],
      "metadata": {
        "colab": {
          "base_uri": "https://localhost:8080/"
        },
        "id": "WBDCQCT_39un",
        "outputId": "e15d6536-8aef-48c7-9419-eb4488839731"
      },
      "execution_count": 22,
      "outputs": [
        {
          "output_type": "stream",
          "name": "stdout",
          "text": [
            "{'abc': 'B', 'def': 'C', 'ghi': 'A'}\n"
          ]
        }
      ]
    },
    {
      "cell_type": "code",
      "source": [
        "def setOperations():\n",
        "  input1=input(\"Enter a list of integers seperated by spaces: \")\n",
        "  list1=[int(x) for x in input1.split()]\n",
        "  set1=set(list1)\n",
        "\n",
        "  input2=input(\"Enter a list of integers seperated by spaces: \")\n",
        "  list2=[int(x) for x in input2.split()]\n",
        "  set2=set(list2)\n",
        "\n",
        "  print(set1.union(set2))\n",
        "  print(set1.intersection(set2))\n",
        "  print(set1.difference(set2))\n",
        "  print(set2.difference(set1))\n",
        "setOperations()"
      ],
      "metadata": {
        "colab": {
          "base_uri": "https://localhost:8080/"
        },
        "id": "A9WJ5EQd4VPl",
        "outputId": "82bf2b6d-ad1f-4277-a65e-1ea834400139"
      },
      "execution_count": 23,
      "outputs": [
        {
          "output_type": "stream",
          "name": "stdout",
          "text": [
            "Enter a list of integers seperated by spaces: 1 5 3 7 8\n",
            "Enter a list of integers seperated by spaces: 2 4 9 0 1 3 \n",
            "{0, 1, 2, 3, 4, 5, 7, 8, 9}\n",
            "{1, 3}\n",
            "{8, 5, 7}\n",
            "{0, 9, 2, 4}\n"
          ]
        }
      ]
    },
    {
      "cell_type": "code",
      "source": [
        "def numChecker():\n",
        "  num=input(\"Enter a number:\")\n",
        "\n",
        "  num=int(num)\n",
        "  if num%2==0:\n",
        "    print(f\"{num} is an even number\")\n",
        "  else:\n",
        "    print(f\"{num} is an odd number\")\n",
        "\n",
        "  if num<0:\n",
        "    print(f\"{num} is negative\")\n",
        "  elif num>0:\n",
        "      print(f\"{num} is positive\")\n",
        "  else:\n",
        "      print(f\"{num} is zero\")\n",
        "\n",
        "numChecker()"
      ],
      "metadata": {
        "colab": {
          "base_uri": "https://localhost:8080/"
        },
        "id": "8-cm_nNz44cl",
        "outputId": "15e69cd0-ea83-4347-e8da-c359f3a0ec64"
      },
      "execution_count": 31,
      "outputs": [
        {
          "output_type": "stream",
          "name": "stdout",
          "text": [
            "Enter a number:-2\n",
            "-2 is an even number\n",
            "-2 is negative\n"
          ]
        }
      ]
    },
    {
      "cell_type": "code",
      "source": [
        "def fizzBuzz():\n",
        "  for i in range(1,51):\n",
        "    if i % 3 == 0 and i % 5 == 0:\n",
        "      print(\"FizzBuzz\")\n",
        "    elif i % 3 == 0:\n",
        "      print(\"Fizz\")\n",
        "    elif i % 5 == 0:\n",
        "      print(\"Buzz\")\n",
        "    else:\n",
        "      print(i)\n",
        "fizzBuzz()\n",
        "\n"
      ],
      "metadata": {
        "colab": {
          "base_uri": "https://localhost:8080/"
        },
        "id": "0yEXMPt259oO",
        "outputId": "a6ce1527-f41f-4cec-f75e-0e42786be5c4"
      },
      "execution_count": 36,
      "outputs": [
        {
          "output_type": "stream",
          "name": "stdout",
          "text": [
            "1\n",
            "2\n",
            "Fizz\n",
            "4\n",
            "Buzz\n",
            "Fizz\n",
            "7\n",
            "8\n",
            "Fizz\n",
            "Buzz\n",
            "11\n",
            "Fizz\n",
            "13\n",
            "14\n",
            "FizzBuzz\n",
            "16\n",
            "17\n",
            "Fizz\n",
            "19\n",
            "Buzz\n",
            "Fizz\n",
            "22\n",
            "23\n",
            "Fizz\n",
            "Buzz\n",
            "26\n",
            "Fizz\n",
            "28\n",
            "29\n",
            "FizzBuzz\n",
            "31\n",
            "32\n",
            "Fizz\n",
            "34\n",
            "Buzz\n",
            "Fizz\n",
            "37\n",
            "38\n",
            "Fizz\n",
            "Buzz\n",
            "41\n",
            "Fizz\n",
            "43\n",
            "44\n",
            "FizzBuzz\n",
            "46\n",
            "47\n",
            "Fizz\n",
            "49\n",
            "Buzz\n"
          ]
        }
      ]
    },
    {
      "cell_type": "code",
      "source": [
        "def factorialCalculator():\n",
        "  num=input(\"Enter a number: \")\n",
        "  num=int(num)\n",
        "  factorial=1\n",
        "  for i in range(1,num+1):\n",
        "    factorial*=i\n",
        "  print(f\"The factorial of {num} is {factorial}\")\n",
        "factorialCalculator()\n"
      ],
      "metadata": {
        "colab": {
          "base_uri": "https://localhost:8080/"
        },
        "id": "M0lhM14L6TPs",
        "outputId": "20b14f15-e8ac-4de4-e352-662c4d2d726e"
      },
      "execution_count": 37,
      "outputs": [
        {
          "output_type": "stream",
          "name": "stdout",
          "text": [
            "Enter a number: 3\n",
            "The factorial of 3 is 6\n"
          ]
        }
      ]
    },
    {
      "cell_type": "code",
      "source": [
        "def primeNumberChecker():\n",
        "  num=input(\"Enter a number: \")\n",
        "  num=int(num)\n",
        "  if num<2:\n",
        "    print(f\"{num} is not a prime number\")\n",
        "  else:\n",
        "    for i in range(2,num):\n",
        "      if num%i==0:\n",
        "        print(f\"{num} is not a prime number\")\n",
        "\n",
        "primeNumberChecker()"
      ],
      "metadata": {
        "colab": {
          "base_uri": "https://localhost:8080/"
        },
        "id": "8k--Tiuo7s5A",
        "outputId": "b2e70614-ae0d-414b-92b8-ef3a4ae7eec7"
      },
      "execution_count": 40,
      "outputs": [
        {
          "output_type": "stream",
          "name": "stdout",
          "text": [
            "Enter a number: 4\n",
            "4 is not a prime number\n"
          ]
        }
      ]
    },
    {
      "cell_type": "code",
      "source": [
        "def listSquare():\n",
        "  list1=[2,4,6,8]\n",
        "  list2=[]\n",
        "  for i in list1:\n",
        "    list2.append(i**2)\n",
        "\n",
        "  print(list2)\n",
        "listSquare()"
      ],
      "metadata": {
        "colab": {
          "base_uri": "https://localhost:8080/"
        },
        "id": "PzKjKmNi74Qz",
        "outputId": "6f58313c-6329-4bbc-e096-1a36cc8753c9"
      },
      "execution_count": 41,
      "outputs": [
        {
          "output_type": "stream",
          "name": "stdout",
          "text": [
            "[4, 16, 36, 64]\n"
          ]
        }
      ]
    },
    {
      "cell_type": "code",
      "source": [
        "def mergeDictionary():\n",
        "  dict1={'a':1,'b':2}\n",
        "  dict2={'b':4,'d':3}\n",
        "  dict3={}\n",
        "  dict3.update(dict1)\n",
        "  dict3.update(dict2)\n",
        "  print(dict3)\n",
        "mergeDictionary()"
      ],
      "metadata": {
        "colab": {
          "base_uri": "https://localhost:8080/"
        },
        "id": "3B7cadR18XgU",
        "outputId": "f7462e05-d386-43b9-dbd1-9b2d2bde7433"
      },
      "execution_count": 46,
      "outputs": [
        {
          "output_type": "stream",
          "name": "stdout",
          "text": [
            "{'a': 1, 'b': 4, 'd': 3}\n"
          ]
        }
      ]
    },
    {
      "cell_type": "code",
      "source": [
        "def removeDup():\n",
        "    list1=[1,1,2,3,4,5,6,4]\n",
        "    list2=[]\n",
        "    for i in list1:\n",
        "        if i not in list2:\n",
        "            list2.append(i)\n",
        "    print(list2)\n",
        "removeDup()"
      ],
      "metadata": {
        "colab": {
          "base_uri": "https://localhost:8080/"
        },
        "id": "Dn3MV19F8v20",
        "outputId": "08f2757f-1f48-4b36-fe3a-5fabee20e274"
      },
      "execution_count": 45,
      "outputs": [
        {
          "output_type": "stream",
          "name": "stdout",
          "text": [
            "[1, 2, 3, 4, 5, 6]\n"
          ]
        }
      ]
    },
    {
      "cell_type": "code",
      "source": [
        "def palindromeChecker():\n",
        "  word=input(\"Enter a word: \")\n",
        "  isPalindorme= lambda word:word == word[::-1]\n",
        "  if isPalindorme(word):\n",
        "    print(f\"{word} is a palindrome\")\n",
        "  else:\n",
        "    print(f\"{word} is not a palindrome\")\n",
        "palindromeChecker()"
      ],
      "metadata": {
        "colab": {
          "base_uri": "https://localhost:8080/"
        },
        "id": "2ywG_iii9Yeb",
        "outputId": "46579d40-56cc-4dd7-fc3d-082f920c5262"
      },
      "execution_count": 56,
      "outputs": [
        {
          "output_type": "stream",
          "name": "stdout",
          "text": [
            "Enter a word: ahmed\n",
            "ahmed is not a palindrome\n"
          ]
        }
      ]
    },
    {
      "cell_type": "code",
      "source": [
        "def fibonnaciSequence():\n",
        "    num=input(\"Enter a number:\")\n",
        "    n1,n2=0,1\n",
        "    count=0\n",
        "    if int(num)<=0:\n",
        "        print(\"Enter a +ive number\")\n",
        "    elif int(num)==1:\n",
        "        print(f\"Fibonnaci Sequence upto {num}:\")\n",
        "        print(n1)\n",
        "    else:\n",
        "        print(f\"Fibonnaci Sequence upto {num}:\")\n",
        "        while count<int(num):\n",
        "            print(n1)\n",
        "            nth=n1+n2\n",
        "            n1=n2\n",
        "            n2=nth\n",
        "            count+=1\n",
        "fibonnaciSequence()\n"
      ],
      "metadata": {
        "colab": {
          "base_uri": "https://localhost:8080/"
        },
        "id": "2QJYfd5R9w9S",
        "outputId": "02f27ed0-1d31-43f1-81db-33ec568edf1c"
      },
      "execution_count": 51,
      "outputs": [
        {
          "output_type": "stream",
          "name": "stdout",
          "text": [
            "Enter a number:10\n",
            "Fibonnaci Sequence upto 10:\n",
            "0\n",
            "1\n",
            "1\n",
            "2\n",
            "3\n",
            "5\n",
            "8\n",
            "13\n",
            "21\n",
            "34\n"
          ]
        }
      ]
    },
    {
      "cell_type": "code",
      "source": [
        "def AvgCalculator():\n",
        "  try:\n",
        "     input1=input(\"Enter a list of integers seperated by spaces: \")\n",
        "     list1=[int(x) for x in input1.split()]\n",
        "     sum=0\n",
        "     for i in list1:\n",
        "       sum+=i\n",
        "     print(f\"The average of the list is {sum/len(list1)}\")\n",
        "  except:\n",
        "    print(\"Invalid input\")\n",
        "AvgCalculator()\n",
        "\n"
      ],
      "metadata": {
        "colab": {
          "base_uri": "https://localhost:8080/"
        },
        "id": "QUrN1ZeB-yTQ",
        "outputId": "308aa907-e5ae-47ad-8ffc-db4700b0482d"
      },
      "execution_count": 53,
      "outputs": [
        {
          "output_type": "stream",
          "name": "stdout",
          "text": [
            "Enter a list of integers seperated by spaces: 1 2 3 4 5\n",
            "The average of the list is 3.0\n"
          ]
        }
      ]
    },
    {
      "cell_type": "code",
      "source": [
        "def multiplicationTable():\n",
        "  for i in range(1,11):\n",
        "    for j in range(1,11):\n",
        "      print(f\"{i} x {j} = {i*j}\")\n",
        "multiplicationTable()"
      ],
      "metadata": {
        "colab": {
          "base_uri": "https://localhost:8080/"
        },
        "id": "cMDpgBTC_3hE",
        "outputId": "10dfb86e-51e2-4f1d-f889-5d26b1a5897f"
      },
      "execution_count": 54,
      "outputs": [
        {
          "output_type": "stream",
          "name": "stdout",
          "text": [
            "1 x 1 = 1\n",
            "1 x 2 = 2\n",
            "1 x 3 = 3\n",
            "1 x 4 = 4\n",
            "1 x 5 = 5\n",
            "1 x 6 = 6\n",
            "1 x 7 = 7\n",
            "1 x 8 = 8\n",
            "1 x 9 = 9\n",
            "1 x 10 = 10\n",
            "2 x 1 = 2\n",
            "2 x 2 = 4\n",
            "2 x 3 = 6\n",
            "2 x 4 = 8\n",
            "2 x 5 = 10\n",
            "2 x 6 = 12\n",
            "2 x 7 = 14\n",
            "2 x 8 = 16\n",
            "2 x 9 = 18\n",
            "2 x 10 = 20\n",
            "3 x 1 = 3\n",
            "3 x 2 = 6\n",
            "3 x 3 = 9\n",
            "3 x 4 = 12\n",
            "3 x 5 = 15\n",
            "3 x 6 = 18\n",
            "3 x 7 = 21\n",
            "3 x 8 = 24\n",
            "3 x 9 = 27\n",
            "3 x 10 = 30\n",
            "4 x 1 = 4\n",
            "4 x 2 = 8\n",
            "4 x 3 = 12\n",
            "4 x 4 = 16\n",
            "4 x 5 = 20\n",
            "4 x 6 = 24\n",
            "4 x 7 = 28\n",
            "4 x 8 = 32\n",
            "4 x 9 = 36\n",
            "4 x 10 = 40\n",
            "5 x 1 = 5\n",
            "5 x 2 = 10\n",
            "5 x 3 = 15\n",
            "5 x 4 = 20\n",
            "5 x 5 = 25\n",
            "5 x 6 = 30\n",
            "5 x 7 = 35\n",
            "5 x 8 = 40\n",
            "5 x 9 = 45\n",
            "5 x 10 = 50\n",
            "6 x 1 = 6\n",
            "6 x 2 = 12\n",
            "6 x 3 = 18\n",
            "6 x 4 = 24\n",
            "6 x 5 = 30\n",
            "6 x 6 = 36\n",
            "6 x 7 = 42\n",
            "6 x 8 = 48\n",
            "6 x 9 = 54\n",
            "6 x 10 = 60\n",
            "7 x 1 = 7\n",
            "7 x 2 = 14\n",
            "7 x 3 = 21\n",
            "7 x 4 = 28\n",
            "7 x 5 = 35\n",
            "7 x 6 = 42\n",
            "7 x 7 = 49\n",
            "7 x 8 = 56\n",
            "7 x 9 = 63\n",
            "7 x 10 = 70\n",
            "8 x 1 = 8\n",
            "8 x 2 = 16\n",
            "8 x 3 = 24\n",
            "8 x 4 = 32\n",
            "8 x 5 = 40\n",
            "8 x 6 = 48\n",
            "8 x 7 = 56\n",
            "8 x 8 = 64\n",
            "8 x 9 = 72\n",
            "8 x 10 = 80\n",
            "9 x 1 = 9\n",
            "9 x 2 = 18\n",
            "9 x 3 = 27\n",
            "9 x 4 = 36\n",
            "9 x 5 = 45\n",
            "9 x 6 = 54\n",
            "9 x 7 = 63\n",
            "9 x 8 = 72\n",
            "9 x 9 = 81\n",
            "9 x 10 = 90\n",
            "10 x 1 = 10\n",
            "10 x 2 = 20\n",
            "10 x 3 = 30\n",
            "10 x 4 = 40\n",
            "10 x 5 = 50\n",
            "10 x 6 = 60\n",
            "10 x 7 = 70\n",
            "10 x 8 = 80\n",
            "10 x 9 = 90\n",
            "10 x 10 = 100\n"
          ]
        }
      ]
    },
    {
      "cell_type": "code",
      "source": [
        "def RegistrationSystem():\n",
        "  users={}\n",
        "  while True:\n",
        "    print(\"1. Register\\n2. Login\\n3. Exit\")\n",
        "    choice=input(\"Enter your choice: \")\n",
        "    if choice==\"1\":\n",
        "      username=input(\"Enter username:\")\n",
        "      password=input(\"Enter password:\")\n",
        "      users.update([(username,password)])\n",
        "      print(\"Registartion Successful\")\n",
        "      print(users)\n",
        "    elif choice ==\"2\":\n",
        "      username=input(\"Enter username:\")\n",
        "      password=input(\"Enter password:\")\n",
        "      if username in users and password==users[username]:\n",
        "        print(\"Login successful\")\n",
        "      else:\n",
        "        print(\"Invalid username or password\")\n",
        "    elif choice==\"3\":\n",
        "      break\n",
        "    else:\n",
        "      print(\"Invalid choice\")\n",
        "RegistrationSystem()"
      ],
      "metadata": {
        "colab": {
          "base_uri": "https://localhost:8080/"
        },
        "id": "v-71IULnANhI",
        "outputId": "4db65205-63d1-4824-ea30-072761323879"
      },
      "execution_count": 64,
      "outputs": [
        {
          "name": "stdout",
          "output_type": "stream",
          "text": [
            "1. Register\n",
            "2. Login\n",
            "3. Exit\n",
            "Enter your choice: 1\n",
            "Enter username:aadil\n",
            "Enter password:1234\n",
            "Registartion Successful\n",
            "{'aadil': '1234'}\n",
            "1. Register\n",
            "2. Login\n",
            "3. Exit\n",
            "Enter your choice: 2\n",
            "Enter username:aadil\n",
            "Enter password:1234\n",
            "Login successful\n",
            "1. Register\n",
            "2. Login\n",
            "3. Exit\n",
            "Enter your choice: 3\n"
          ]
        }
      ]
    },
    {
      "cell_type": "code",
      "source": [
        "def CountWordsinDictionary():\n",
        "  input1=input(\"Enter a list of words seperated by ',': \")\n",
        "  list1=[str(x) for x in input1.split(',')]\n",
        "  dict1={}\n",
        "  for i in list1:\n",
        "    if i in dict1:\n",
        "      dict1[i]+=1\n",
        "    else:\n",
        "      dict1[i]=1\n",
        "  print(dict1)\n",
        "CountWordsinDictionary()"
      ],
      "metadata": {
        "colab": {
          "base_uri": "https://localhost:8080/"
        },
        "id": "a732kTfgDaFz",
        "outputId": "843ed18a-aea8-4992-c0f7-9590fe8af61f"
      },
      "execution_count": 65,
      "outputs": [
        {
          "output_type": "stream",
          "name": "stdout",
          "text": [
            "Enter a list of words seperated by ',': apple,banana,apple\n",
            "{'apple': 2, 'banana': 1}\n"
          ]
        }
      ]
    },
    {
      "cell_type": "code",
      "source": [
        "def TemperatureConvert():\n",
        "  convert=input(\"Do you want to convert to Fahrenheit(F) or Celsius(C):\")\n",
        "  if convert ==\"F\":\n",
        "    temp=input(\"Enter temperature in Fahrenheit:\")\n",
        "    temp=(float(temp)-32)*5/9\n",
        "    print(f\"The temperature in Celsius is {temp}\")\n",
        "  elif convert ==\"C\":\n",
        "    temp=input(\"Enter temperature in Celsius:\")\n",
        "    temp=(float(temp)*9/5)+32\n",
        "    print(f\"The temperature in Fahrenheit is {temp}\")\n",
        "  else:\n",
        "    print(\"Inavlid Input\")\n",
        "\n",
        "TemperatureConvert()"
      ],
      "metadata": {
        "colab": {
          "base_uri": "https://localhost:8080/"
        },
        "id": "M3IIBEGIEq9z",
        "outputId": "d9c41dd7-f193-404c-9981-28388984e9cf"
      },
      "execution_count": 67,
      "outputs": [
        {
          "output_type": "stream",
          "name": "stdout",
          "text": [
            "Do you want to convert to Fahrenheit(F) or Celsius(C):C\n",
            "Enter temperature in Celsius:32\n",
            "The temperature in Fahrenheit is 89.6\n"
          ]
        }
      ]
    }
  ]
}